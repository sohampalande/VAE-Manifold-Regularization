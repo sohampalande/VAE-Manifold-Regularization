{
 "cells": [
  {
   "cell_type": "markdown",
   "id": "067ca069",
   "metadata": {},
   "source": [
    "# VAE for Time Series Data\n",
    "\n",
    "The purpose of this notebook is to test the developed time series VAE module on real time series datasets. "
   ]
  },
  {
   "cell_type": "markdown",
   "id": "55e8e870",
   "metadata": {},
   "source": [
    "## Libraries"
   ]
  },
  {
   "cell_type": "code",
   "execution_count": 1,
   "id": "b3820989",
   "metadata": {},
   "outputs": [],
   "source": [
    "import numpy as np\n",
    "import pandas as pd\n",
    "import matplotlib.pyplot as plt\n",
    "from models.tsvae_conv import ConvTimeSeriesVAE"
   ]
  },
  {
   "cell_type": "markdown",
   "id": "71d97337",
   "metadata": {},
   "source": [
    "## Loading the Datasets"
   ]
  },
  {
   "cell_type": "code",
   "execution_count": 4,
   "id": "71546d4c",
   "metadata": {},
   "outputs": [],
   "source": [
    "# Load dataset\n",
    "dataset_name = 'AMZN_10-20'\n",
    "file_path = './datasets/' + dataset_name + '.csv'\n",
    "dataset = pd.read_csv(file_path)"
   ]
  },
  {
   "cell_type": "markdown",
   "id": "6cbd6352",
   "metadata": {},
   "source": [
    "## Instantiating the Model"
   ]
  },
  {
   "cell_type": "markdown",
   "id": "f35a13c6",
   "metadata": {},
   "source": [
    "## Training the Model"
   ]
  },
  {
   "cell_type": "markdown",
   "id": "1315139c",
   "metadata": {},
   "source": [
    "## Visualization of Synthetic Data"
   ]
  }
 ],
 "metadata": {
  "kernelspec": {
   "display_name": "Environment (conda_time-series-vae)",
   "language": "python",
   "name": "conda_time-series-vae"
  },
  "language_info": {
   "codemirror_mode": {
    "name": "ipython",
    "version": 3
   },
   "file_extension": ".py",
   "mimetype": "text/x-python",
   "name": "python",
   "nbconvert_exporter": "python",
   "pygments_lexer": "ipython3",
   "version": "3.8.13"
  }
 },
 "nbformat": 4,
 "nbformat_minor": 5
}
